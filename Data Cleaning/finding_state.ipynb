{
 "cells": [
  {
   "cell_type": "code",
   "execution_count": 19,
   "metadata": {},
   "outputs": [],
   "source": [
    "import pandas as pd\n",
    "import numpy as np\n",
    "from geopy.geocoders import Nominatim"
   ]
  },
  {
   "cell_type": "code",
   "execution_count": 20,
   "metadata": {},
   "outputs": [
    {
     "data": {
      "text/html": [
       "<div>\n",
       "<style scoped>\n",
       "    .dataframe tbody tr th:only-of-type {\n",
       "        vertical-align: middle;\n",
       "    }\n",
       "\n",
       "    .dataframe tbody tr th {\n",
       "        vertical-align: top;\n",
       "    }\n",
       "\n",
       "    .dataframe thead th {\n",
       "        text-align: right;\n",
       "    }\n",
       "</style>\n",
       "<table border=\"1\" class=\"dataframe\">\n",
       "  <thead>\n",
       "    <tr style=\"text-align: right;\">\n",
       "      <th></th>\n",
       "      <th>name</th>\n",
       "      <th>id</th>\n",
       "      <th>name_type</th>\n",
       "      <th>rec_class</th>\n",
       "      <th>mass</th>\n",
       "      <th>fall</th>\n",
       "      <th>year</th>\n",
       "      <th>rec_lat</th>\n",
       "      <th>rec_long</th>\n",
       "      <th>location_type</th>\n",
       "    </tr>\n",
       "  </thead>\n",
       "  <tbody>\n",
       "    <tr>\n",
       "      <th>0</th>\n",
       "      <td>Allegan</td>\n",
       "      <td>2276</td>\n",
       "      <td>Valid</td>\n",
       "      <td>H5</td>\n",
       "      <td>32000.0</td>\n",
       "      <td>Fell</td>\n",
       "      <td>1899.0</td>\n",
       "      <td>42.53333</td>\n",
       "      <td>-85.88333</td>\n",
       "      <td>Exact</td>\n",
       "    </tr>\n",
       "    <tr>\n",
       "      <th>1</th>\n",
       "      <td>Allende</td>\n",
       "      <td>2278</td>\n",
       "      <td>Valid</td>\n",
       "      <td>CV3</td>\n",
       "      <td>2000000.0</td>\n",
       "      <td>Fell</td>\n",
       "      <td>1969.0</td>\n",
       "      <td>26.96667</td>\n",
       "      <td>-105.31667</td>\n",
       "      <td>Exact</td>\n",
       "    </tr>\n",
       "    <tr>\n",
       "      <th>2</th>\n",
       "      <td>Andover</td>\n",
       "      <td>2295</td>\n",
       "      <td>Valid</td>\n",
       "      <td>L6</td>\n",
       "      <td>3200.0</td>\n",
       "      <td>Fell</td>\n",
       "      <td>1898.0</td>\n",
       "      <td>44.61667</td>\n",
       "      <td>-70.75000</td>\n",
       "      <td>Exact</td>\n",
       "    </tr>\n",
       "    <tr>\n",
       "      <th>3</th>\n",
       "      <td>Archie</td>\n",
       "      <td>2329</td>\n",
       "      <td>Valid</td>\n",
       "      <td>H6</td>\n",
       "      <td>5070.0</td>\n",
       "      <td>Fell</td>\n",
       "      <td>1932.0</td>\n",
       "      <td>38.50000</td>\n",
       "      <td>-94.30000</td>\n",
       "      <td>Exact</td>\n",
       "    </tr>\n",
       "    <tr>\n",
       "      <th>4</th>\n",
       "      <td>Ash Creek</td>\n",
       "      <td>48954</td>\n",
       "      <td>Valid</td>\n",
       "      <td>L6</td>\n",
       "      <td>9500.0</td>\n",
       "      <td>Fell</td>\n",
       "      <td>2009.0</td>\n",
       "      <td>31.80500</td>\n",
       "      <td>-97.01000</td>\n",
       "      <td>Exact</td>\n",
       "    </tr>\n",
       "  </tbody>\n",
       "</table>\n",
       "</div>"
      ],
      "text/plain": [
       "        name     id name_type rec_class       mass  fall    year   rec_lat  \\\n",
       "0    Allegan   2276     Valid        H5    32000.0  Fell  1899.0  42.53333   \n",
       "1    Allende   2278     Valid       CV3  2000000.0  Fell  1969.0  26.96667   \n",
       "2    Andover   2295     Valid        L6     3200.0  Fell  1898.0  44.61667   \n",
       "3     Archie   2329     Valid        H6     5070.0  Fell  1932.0  38.50000   \n",
       "4  Ash Creek  48954     Valid        L6     9500.0  Fell  2009.0  31.80500   \n",
       "\n",
       "    rec_long location_type  \n",
       "0  -85.88333         Exact  \n",
       "1 -105.31667         Exact  \n",
       "2  -70.75000         Exact  \n",
       "3  -94.30000         Exact  \n",
       "4  -97.01000         Exact  "
      ]
     },
     "execution_count": 20,
     "metadata": {},
     "output_type": "execute_result"
    }
   ],
   "source": [
    "#import data\n",
    "df = pd.read_csv('cleaned_meteorite_data.csv', low_memory=True)\n",
    "df.head()"
   ]
  },
  {
   "cell_type": "code",
   "execution_count": 21,
   "metadata": {},
   "outputs": [],
   "source": [
    "def get_state_from_coordinates(row):\n",
    "    geolocator = Nominatim(user_agent=\"state_identifier\")\n",
    "    location = geolocator.reverse((row['rec_lat'], row['rec_long']), language=\"en\")\n",
    "    \n",
    "    if location and 'address' in location.raw and 'state' in location.raw['address']:\n",
    "        state = location.raw['address']['state']\n",
    "        return state\n",
    "    else:\n",
    "        return \"State not found\""
   ]
  },
  {
   "cell_type": "code",
   "execution_count": 22,
   "metadata": {},
   "outputs": [],
   "source": [
    "df['state'] = df.apply(get_state_from_coordinates, axis=1)"
   ]
  },
  {
   "cell_type": "code",
   "execution_count": 23,
   "metadata": {},
   "outputs": [],
   "source": [
    "grouped_df = df.groupby('state').agg({'name': 'count'}).reset_index()"
   ]
  },
  {
   "cell_type": "code",
   "execution_count": 26,
   "metadata": {},
   "outputs": [],
   "source": [
    "states_to_drop = ['Chihuahua', 'Ontario', 'Durango', 'Coahuila', 'Quebec', \n",
    "                  'Sonora', 'Nuevo León', 'Tamaulipas', 'Alberta', 'Zacatecas',\n",
    "                  'New Brunswick', 'Baja California', 'Baja California Sur']\n",
    "filtered_df = df[~df['state'].isin(states_to_drop)]"
   ]
  },
  {
   "cell_type": "code",
   "execution_count": 27,
   "metadata": {},
   "outputs": [],
   "source": [
    "grouped_df = filtered_df.groupby('state').agg({'name': 'count'}).reset_index()"
   ]
  },
  {
   "cell_type": "code",
   "execution_count": 28,
   "metadata": {},
   "outputs": [],
   "source": [
    "filtered_df.to_csv('cleaned_meteorite_data.csv', index=False)"
   ]
  },
  {
   "cell_type": "code",
   "execution_count": 29,
   "metadata": {},
   "outputs": [],
   "source": [
    "grouped_df.to_csv('grouped_cleaned_meteorite_data.csv', index=False)"
   ]
  }
 ],
 "metadata": {
  "kernelspec": {
   "display_name": "base",
   "language": "python",
   "name": "python3"
  },
  "language_info": {
   "codemirror_mode": {
    "name": "ipython",
    "version": 3
   },
   "file_extension": ".py",
   "mimetype": "text/x-python",
   "name": "python",
   "nbconvert_exporter": "python",
   "pygments_lexer": "ipython3",
   "version": "3.8.9"
  }
 },
 "nbformat": 4,
 "nbformat_minor": 2
}
