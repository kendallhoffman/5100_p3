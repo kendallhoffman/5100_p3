{
 "cells": [
  {
   "cell_type": "code",
   "execution_count": 1,
   "metadata": {},
   "outputs": [],
   "source": [
    "import pandas as pd\n",
    "import numpy as np"
   ]
  },
  {
   "cell_type": "code",
   "execution_count": 2,
   "metadata": {},
   "outputs": [
    {
     "data": {
      "text/html": [
       "<div>\n",
       "<style scoped>\n",
       "    .dataframe tbody tr th:only-of-type {\n",
       "        vertical-align: middle;\n",
       "    }\n",
       "\n",
       "    .dataframe tbody tr th {\n",
       "        vertical-align: top;\n",
       "    }\n",
       "\n",
       "    .dataframe thead th {\n",
       "        text-align: right;\n",
       "    }\n",
       "</style>\n",
       "<table border=\"1\" class=\"dataframe\">\n",
       "  <thead>\n",
       "    <tr style=\"text-align: right;\">\n",
       "      <th></th>\n",
       "      <th>Unnamed: 0</th>\n",
       "      <th>name</th>\n",
       "      <th>id</th>\n",
       "      <th>name_type</th>\n",
       "      <th>rec_class</th>\n",
       "      <th>mass</th>\n",
       "      <th>fall</th>\n",
       "      <th>year</th>\n",
       "      <th>rec_lat</th>\n",
       "      <th>rec_long</th>\n",
       "      <th>geo_location</th>\n",
       "      <th>location_type</th>\n",
       "    </tr>\n",
       "  </thead>\n",
       "  <tbody>\n",
       "    <tr>\n",
       "      <th>0</th>\n",
       "      <td>0</td>\n",
       "      <td>Aachen</td>\n",
       "      <td>1</td>\n",
       "      <td>Valid</td>\n",
       "      <td>L5</td>\n",
       "      <td>21.0</td>\n",
       "      <td>Fell</td>\n",
       "      <td>1880.0</td>\n",
       "      <td>50.77500</td>\n",
       "      <td>6.08333</td>\n",
       "      <td>NaN</td>\n",
       "      <td>Exact</td>\n",
       "    </tr>\n",
       "    <tr>\n",
       "      <th>1</th>\n",
       "      <td>1</td>\n",
       "      <td>Aarhus</td>\n",
       "      <td>2</td>\n",
       "      <td>Valid</td>\n",
       "      <td>H6</td>\n",
       "      <td>720.0</td>\n",
       "      <td>Fell</td>\n",
       "      <td>1951.0</td>\n",
       "      <td>56.18333</td>\n",
       "      <td>10.23333</td>\n",
       "      <td>NaN</td>\n",
       "      <td>Exact</td>\n",
       "    </tr>\n",
       "    <tr>\n",
       "      <th>2</th>\n",
       "      <td>2</td>\n",
       "      <td>Abee</td>\n",
       "      <td>6</td>\n",
       "      <td>Valid</td>\n",
       "      <td>EH4</td>\n",
       "      <td>107000.0</td>\n",
       "      <td>Fell</td>\n",
       "      <td>1952.0</td>\n",
       "      <td>54.21667</td>\n",
       "      <td>-113.00000</td>\n",
       "      <td>NaN</td>\n",
       "      <td>Exact</td>\n",
       "    </tr>\n",
       "    <tr>\n",
       "      <th>3</th>\n",
       "      <td>3</td>\n",
       "      <td>Acapulco</td>\n",
       "      <td>10</td>\n",
       "      <td>Valid</td>\n",
       "      <td>Acapulcoite</td>\n",
       "      <td>1914.0</td>\n",
       "      <td>Fell</td>\n",
       "      <td>1976.0</td>\n",
       "      <td>16.88333</td>\n",
       "      <td>-99.90000</td>\n",
       "      <td>NaN</td>\n",
       "      <td>Exact</td>\n",
       "    </tr>\n",
       "    <tr>\n",
       "      <th>4</th>\n",
       "      <td>4</td>\n",
       "      <td>Achiras</td>\n",
       "      <td>370</td>\n",
       "      <td>Valid</td>\n",
       "      <td>L6</td>\n",
       "      <td>780.0</td>\n",
       "      <td>Fell</td>\n",
       "      <td>1902.0</td>\n",
       "      <td>-33.16667</td>\n",
       "      <td>-64.95000</td>\n",
       "      <td>NaN</td>\n",
       "      <td>Exact</td>\n",
       "    </tr>\n",
       "  </tbody>\n",
       "</table>\n",
       "</div>"
      ],
      "text/plain": [
       "   Unnamed: 0      name   id name_type    rec_class      mass  fall    year  \\\n",
       "0           0    Aachen    1     Valid           L5      21.0  Fell  1880.0   \n",
       "1           1    Aarhus    2     Valid           H6     720.0  Fell  1951.0   \n",
       "2           2      Abee    6     Valid          EH4  107000.0  Fell  1952.0   \n",
       "3           3  Acapulco   10     Valid  Acapulcoite    1914.0  Fell  1976.0   \n",
       "4           4   Achiras  370     Valid           L6     780.0  Fell  1902.0   \n",
       "\n",
       "    rec_lat   rec_long geo_location location_type  \n",
       "0  50.77500    6.08333          NaN         Exact  \n",
       "1  56.18333   10.23333          NaN         Exact  \n",
       "2  54.21667 -113.00000          NaN         Exact  \n",
       "3  16.88333  -99.90000          NaN         Exact  \n",
       "4 -33.16667  -64.95000          NaN         Exact  "
      ]
     },
     "execution_count": 2,
     "metadata": {},
     "output_type": "execute_result"
    }
   ],
   "source": [
    "#import data\n",
    "df = pd.read_csv('meteorite_data.csv', low_memory=True)\n",
    "df.head()"
   ]
  },
  {
   "cell_type": "code",
   "execution_count": 3,
   "metadata": {},
   "outputs": [],
   "source": [
    "df= df.drop(columns=['Unnamed: 0', 'geo_location'],axis=1)\n",
    "\n",
    "df = df[(df['rec_long']<=180) & (df['rec_long']>=-180) ]\n",
    "df = df[(df['rec_lat']!= 0) | (df['rec_long']!= 0)]"
   ]
  },
  {
   "cell_type": "code",
   "execution_count": 4,
   "metadata": {},
   "outputs": [
    {
     "name": "stdout",
     "output_type": "stream",
     "text": [
      "<class 'pandas.core.frame.DataFrame'>\n",
      "Int64Index: 44146 entries, 0 to 45715\n",
      "Data columns (total 10 columns):\n",
      " #   Column         Non-Null Count  Dtype  \n",
      "---  ------         --------------  -----  \n",
      " 0   name           44146 non-null  object \n",
      " 1   id             44146 non-null  int64  \n",
      " 2   name_type      44146 non-null  object \n",
      " 3   rec_class      44146 non-null  object \n",
      " 4   mass           44026 non-null  float64\n",
      " 5   fall           44146 non-null  object \n",
      " 6   year           43875 non-null  float64\n",
      " 7   rec_lat        44146 non-null  float64\n",
      " 8   rec_long       44146 non-null  float64\n",
      " 9   location_type  44146 non-null  object \n",
      "dtypes: float64(4), int64(1), object(5)\n",
      "memory usage: 3.7+ MB\n"
     ]
    }
   ],
   "source": [
    "df.info()"
   ]
  },
  {
   "cell_type": "code",
   "execution_count": 5,
   "metadata": {},
   "outputs": [
    {
     "data": {
      "text/plain": [
       "(44146, 10)"
      ]
     },
     "execution_count": 5,
     "metadata": {},
     "output_type": "execute_result"
    }
   ],
   "source": [
    "df.shape"
   ]
  },
  {
   "cell_type": "code",
   "execution_count": 6,
   "metadata": {},
   "outputs": [
    {
     "data": {
      "text/plain": [
       "name               0\n",
       "id                 0\n",
       "name_type          0\n",
       "rec_class          0\n",
       "mass             120\n",
       "fall               0\n",
       "year             271\n",
       "rec_lat            0\n",
       "rec_long           0\n",
       "location_type      0\n",
       "dtype: int64"
      ]
     },
     "execution_count": 6,
     "metadata": {},
     "output_type": "execute_result"
    }
   ],
   "source": [
    "df.isnull().sum()"
   ]
  },
  {
   "cell_type": "code",
   "execution_count": 7,
   "metadata": {},
   "outputs": [
    {
     "data": {
      "text/plain": [
       "name             0\n",
       "id               0\n",
       "name_type        0\n",
       "rec_class        0\n",
       "mass             0\n",
       "fall             0\n",
       "year             0\n",
       "rec_lat          0\n",
       "rec_long         0\n",
       "location_type    0\n",
       "dtype: int64"
      ]
     },
     "execution_count": 7,
     "metadata": {},
     "output_type": "execute_result"
    }
   ],
   "source": [
    "df = df.dropna()\n",
    "df.isnull().sum()"
   ]
  },
  {
   "cell_type": "code",
   "execution_count": 8,
   "metadata": {},
   "outputs": [
    {
     "data": {
      "text/plain": [
       "(43764, 10)"
      ]
     },
     "execution_count": 8,
     "metadata": {},
     "output_type": "execute_result"
    }
   ],
   "source": [
    "df.shape"
   ]
  },
  {
   "cell_type": "code",
   "execution_count": 9,
   "metadata": {},
   "outputs": [
    {
     "data": {
      "text/html": [
       "<div>\n",
       "<style scoped>\n",
       "    .dataframe tbody tr th:only-of-type {\n",
       "        vertical-align: middle;\n",
       "    }\n",
       "\n",
       "    .dataframe tbody tr th {\n",
       "        vertical-align: top;\n",
       "    }\n",
       "\n",
       "    .dataframe thead th {\n",
       "        text-align: right;\n",
       "    }\n",
       "</style>\n",
       "<table border=\"1\" class=\"dataframe\">\n",
       "  <thead>\n",
       "    <tr style=\"text-align: right;\">\n",
       "      <th></th>\n",
       "      <th>id</th>\n",
       "      <th>mass</th>\n",
       "      <th>year</th>\n",
       "      <th>rec_lat</th>\n",
       "      <th>rec_long</th>\n",
       "    </tr>\n",
       "  </thead>\n",
       "  <tbody>\n",
       "    <tr>\n",
       "      <th>count</th>\n",
       "      <td>43764.000000</td>\n",
       "      <td>4.376400e+04</td>\n",
       "      <td>43764.000000</td>\n",
       "      <td>43764.000000</td>\n",
       "      <td>43764.000000</td>\n",
       "    </tr>\n",
       "    <tr>\n",
       "      <th>mean</th>\n",
       "      <td>26607.171122</td>\n",
       "      <td>1.375845e+04</td>\n",
       "      <td>1991.484371</td>\n",
       "      <td>-45.504941</td>\n",
       "      <td>65.126957</td>\n",
       "    </tr>\n",
       "    <tr>\n",
       "      <th>std</th>\n",
       "      <td>16949.100868</td>\n",
       "      <td>5.868123e+05</td>\n",
       "      <td>33.469478</td>\n",
       "      <td>48.711161</td>\n",
       "      <td>84.988200</td>\n",
       "    </tr>\n",
       "    <tr>\n",
       "      <th>min</th>\n",
       "      <td>1.000000</td>\n",
       "      <td>0.000000e+00</td>\n",
       "      <td>-2101.000000</td>\n",
       "      <td>-87.366670</td>\n",
       "      <td>-165.433330</td>\n",
       "    </tr>\n",
       "    <tr>\n",
       "      <th>25%</th>\n",
       "      <td>12274.750000</td>\n",
       "      <td>7.307500e+00</td>\n",
       "      <td>1987.000000</td>\n",
       "      <td>-83.250000</td>\n",
       "      <td>11.783053</td>\n",
       "    </tr>\n",
       "    <tr>\n",
       "      <th>50%</th>\n",
       "      <td>23823.500000</td>\n",
       "      <td>3.241500e+01</td>\n",
       "      <td>1998.000000</td>\n",
       "      <td>-72.000000</td>\n",
       "      <td>54.127405</td>\n",
       "    </tr>\n",
       "    <tr>\n",
       "      <th>75%</th>\n",
       "      <td>40450.250000</td>\n",
       "      <td>2.030000e+02</td>\n",
       "      <td>2003.000000</td>\n",
       "      <td>19.525405</td>\n",
       "      <td>157.166670</td>\n",
       "    </tr>\n",
       "    <tr>\n",
       "      <th>max</th>\n",
       "      <td>57458.000000</td>\n",
       "      <td>6.000000e+07</td>\n",
       "      <td>2013.000000</td>\n",
       "      <td>81.166670</td>\n",
       "      <td>179.383333</td>\n",
       "    </tr>\n",
       "  </tbody>\n",
       "</table>\n",
       "</div>"
      ],
      "text/plain": [
       "                 id          mass          year       rec_lat      rec_long\n",
       "count  43764.000000  4.376400e+04  43764.000000  43764.000000  43764.000000\n",
       "mean   26607.171122  1.375845e+04   1991.484371    -45.504941     65.126957\n",
       "std    16949.100868  5.868123e+05     33.469478     48.711161     84.988200\n",
       "min        1.000000  0.000000e+00  -2101.000000    -87.366670   -165.433330\n",
       "25%    12274.750000  7.307500e+00   1987.000000    -83.250000     11.783053\n",
       "50%    23823.500000  3.241500e+01   1998.000000    -72.000000     54.127405\n",
       "75%    40450.250000  2.030000e+02   2003.000000     19.525405    157.166670\n",
       "max    57458.000000  6.000000e+07   2013.000000     81.166670    179.383333"
      ]
     },
     "execution_count": 9,
     "metadata": {},
     "output_type": "execute_result"
    }
   ],
   "source": [
    "df.describe()"
   ]
  },
  {
   "cell_type": "code",
   "execution_count": 10,
   "metadata": {},
   "outputs": [
    {
     "data": {
      "text/plain": [
       "<Axes: ylabel='Frequency'>"
      ]
     },
     "execution_count": 10,
     "metadata": {},
     "output_type": "execute_result"
    },
    {
     "data": {
      "image/png": "[encoded data removed]",
      "text/plain": [
       "<Figure size 640x480 with 1 Axes>"
      ]
     },
     "metadata": {},
     "output_type": "display_data"
    }
   ],
   "source": [
    "df['year'].plot.hist()"
   ]
  },
  {
   "cell_type": "code",
   "execution_count": 11,
   "metadata": {},
   "outputs": [
    {
     "data": {
      "text/html": [
       "<div>\n",
       "<style scoped>\n",
       "    .dataframe tbody tr th:only-of-type {\n",
       "        vertical-align: middle;\n",
       "    }\n",
       "\n",
       "    .dataframe tbody tr th {\n",
       "        vertical-align: top;\n",
       "    }\n",
       "\n",
       "    .dataframe thead th {\n",
       "        text-align: right;\n",
       "    }\n",
       "</style>\n",
       "<table border=\"1\" class=\"dataframe\">\n",
       "  <thead>\n",
       "    <tr style=\"text-align: right;\">\n",
       "      <th></th>\n",
       "      <th>positive</th>\n",
       "      <th>negative</th>\n",
       "      <th>zero</th>\n",
       "      <th>null</th>\n",
       "      <th>total</th>\n",
       "      <th>expected total</th>\n",
       "    </tr>\n",
       "  </thead>\n",
       "  <tbody>\n",
       "    <tr>\n",
       "      <th>0</th>\n",
       "      <td>43762</td>\n",
       "      <td>2</td>\n",
       "      <td>0</td>\n",
       "      <td>0</td>\n",
       "      <td>43764</td>\n",
       "      <td>43764</td>\n",
       "    </tr>\n",
       "  </tbody>\n",
       "</table>\n",
       "</div>"
      ],
      "text/plain": [
       "   positive  negative  zero  null  total  expected total\n",
       "0     43762         2     0     0  43764           43764"
      ]
     },
     "execution_count": 11,
     "metadata": {},
     "output_type": "execute_result"
    }
   ],
   "source": [
    "# Check if years are negative, positive, 0, or null\n",
    "year_data = df['year']\n",
    "positive = year_data.gt(0).sum()\n",
    "negative = year_data.lt(0).sum()\n",
    "zero = year_data.eq(0).sum()\n",
    "null = year_data.isnull().sum()\n",
    "positive, negative, zero, null\n",
    "\n",
    "pd.DataFrame({'positive': [positive], 'negative': [negative], 'zero': [zero], 'null': [null], \n",
    "              'total': [positive + negative + zero + null], 'expected total': [len(year_data)]})"
   ]
  },
  {
   "cell_type": "code",
   "execution_count": 12,
   "metadata": {},
   "outputs": [
    {
     "data": {
      "text/html": [
       "<div>\n",
       "<style scoped>\n",
       "    .dataframe tbody tr th:only-of-type {\n",
       "        vertical-align: middle;\n",
       "    }\n",
       "\n",
       "    .dataframe tbody tr th {\n",
       "        vertical-align: top;\n",
       "    }\n",
       "\n",
       "    .dataframe thead th {\n",
       "        text-align: right;\n",
       "    }\n",
       "</style>\n",
       "<table border=\"1\" class=\"dataframe\">\n",
       "  <thead>\n",
       "    <tr style=\"text-align: right;\">\n",
       "      <th></th>\n",
       "      <th>name</th>\n",
       "      <th>id</th>\n",
       "      <th>name_type</th>\n",
       "      <th>rec_class</th>\n",
       "      <th>mass</th>\n",
       "      <th>fall</th>\n",
       "      <th>year</th>\n",
       "      <th>rec_lat</th>\n",
       "      <th>rec_long</th>\n",
       "      <th>location_type</th>\n",
       "    </tr>\n",
       "  </thead>\n",
       "  <tbody>\n",
       "    <tr>\n",
       "      <th>30679</th>\n",
       "      <td>Northwest Africa 7701</td>\n",
       "      <td>57150</td>\n",
       "      <td>Valid</td>\n",
       "      <td>CK6</td>\n",
       "      <td>55.0</td>\n",
       "      <td>Found</td>\n",
       "      <td>-2101.0</td>\n",
       "      <td>29.295239</td>\n",
       "      <td>-6.554735</td>\n",
       "      <td>Guessed</td>\n",
       "    </tr>\n",
       "    <tr>\n",
       "      <th>38301</th>\n",
       "      <td>Wietrzno-Bobrka</td>\n",
       "      <td>24259</td>\n",
       "      <td>Valid</td>\n",
       "      <td>Iron</td>\n",
       "      <td>376.0</td>\n",
       "      <td>Found</td>\n",
       "      <td>-601.0</td>\n",
       "      <td>49.416670</td>\n",
       "      <td>21.700000</td>\n",
       "      <td>Exact</td>\n",
       "    </tr>\n",
       "  </tbody>\n",
       "</table>\n",
       "</div>"
      ],
      "text/plain": [
       "                        name     id name_type rec_class   mass   fall    year  \\\n",
       "30679  Northwest Africa 7701  57150     Valid       CK6   55.0  Found -2101.0   \n",
       "38301        Wietrzno-Bobrka  24259     Valid      Iron  376.0  Found  -601.0   \n",
       "\n",
       "         rec_lat   rec_long location_type  \n",
       "30679  29.295239  -6.554735       Guessed  \n",
       "38301  49.416670  21.700000         Exact  "
      ]
     },
     "execution_count": 12,
     "metadata": {},
     "output_type": "execute_result"
    }
   ],
   "source": [
    "odd_dates = df[(df['year'] < 860) | (df['year'] > 2016)]\n",
    "odd_dates"
   ]
  },
  {
   "cell_type": "code",
   "execution_count": 13,
   "metadata": {},
   "outputs": [],
   "source": [
    "#drop above rows\n",
    "\n",
    "df = df.drop(index=[30679, 38301])"
   ]
  },
  {
   "cell_type": "code",
   "execution_count": 14,
   "metadata": {},
   "outputs": [],
   "source": [
    "# df['year'].plot.hist(bins=100)"
   ]
  },
  {
   "cell_type": "code",
   "execution_count": 15,
   "metadata": {},
   "outputs": [
    {
     "data": {
      "text/plain": [
       "<Axes: ylabel='Frequency'>"
      ]
     },
     "execution_count": 15,
     "metadata": {},
     "output_type": "execute_result"
    },
    {
     "data": {
      "image/png": "[encoded data removed]",
      "text/plain": [
       "<Figure size 640x480 with 1 Axes>"
      ]
     },
     "metadata": {},
     "output_type": "display_data"
    }
   ],
   "source": [
    "df = df[df['year'] >= 1800]\n",
    "\n",
    "df['year'].plot.hist()"
   ]
  },
  {
   "cell_type": "code",
   "execution_count": 16,
   "metadata": {},
   "outputs": [],
   "source": [
    "# #drop meteorites that fell before 1970\n",
    "\n",
    "# df = df[df['year'] >= 1970]\n",
    "\n",
    "# #check distriburion again\n",
    "\n",
    "# df['year'].plot.hist(bins=45)"
   ]
  },
  {
   "cell_type": "code",
   "execution_count": 17,
   "metadata": {},
   "outputs": [
    {
     "data": {
      "text/plain": [
       "(43715, 10)"
      ]
     },
     "execution_count": 17,
     "metadata": {},
     "output_type": "execute_result"
    }
   ],
   "source": [
    "#check shape again\n",
    "df.shape"
   ]
  },
  {
   "cell_type": "code",
   "execution_count": 18,
   "metadata": {},
   "outputs": [
    {
     "name": "stdout",
     "output_type": "stream",
     "text": [
      "             name     id name_type          rec_class       mass   fall  \\\n",
      "28        Allegan   2276     Valid                 H5    32000.0   Fell   \n",
      "29        Allende   2278     Valid                CV3  2000000.0   Fell   \n",
      "34        Andover   2295     Valid                 L6     3200.0   Fell   \n",
      "46         Archie   2329     Valid                 H6     5070.0   Fell   \n",
      "49      Ash Creek  48954     Valid                 L6     9500.0   Fell   \n",
      "...           ...    ...       ...                ...        ...    ...   \n",
      "45689   Yucca 017  57159     Valid                 H5      200.0  Found   \n",
      "45693      Zaffra  30383     Valid       Iron, IAB-MG     3000.0  Found   \n",
      "45697  Zapaliname  30392     Valid       Iron, IAB-MG    85000.0  Found   \n",
      "45703       Zenda  30400     Valid  Iron, IAB complex     3700.0  Found   \n",
      "45715  Zulu Queen  30414     Valid               L3.7      200.0  Found   \n",
      "\n",
      "         year   rec_lat   rec_long location_type  \n",
      "28     1899.0  42.53333  -85.88333         Exact  \n",
      "29     1969.0  26.96667 -105.31667         Exact  \n",
      "34     1898.0  44.61667  -70.75000         Exact  \n",
      "46     1932.0  38.50000  -94.30000         Exact  \n",
      "49     2009.0  31.80500  -97.01000         Exact  \n",
      "...       ...       ...        ...           ...  \n",
      "45689  2011.0  34.81923 -114.27735         Exact  \n",
      "45693  1919.0  35.00000  -94.75000         Exact  \n",
      "45697  1998.0  25.00944 -100.75000         Exact  \n",
      "45703  1955.0  42.51333  -88.48944         Exact  \n",
      "45715  1976.0  33.98333 -115.68333         Exact  \n",
      "\n",
      "[1714 rows x 10 columns]\n"
     ]
    }
   ],
   "source": [
    "#filter to only US data\n",
    "\n",
    "north = 49.382808\n",
    "south = 24.521208\n",
    "east = -66.945392\n",
    "west = -124.736342\n",
    "\n",
    "# Filter based on latitude\n",
    "df = df[(df['rec_lat'] < north) & (df['rec_lat'] > south)]\n",
    "\n",
    "# Filter based on longitude\n",
    "df = df[(df['rec_long'] > west) & (df['rec_long'] < east)]\n",
    "\n",
    "# Print the filtered DataFrame\n",
    "print(df)\n"
   ]
  },
  {
   "cell_type": "code",
   "execution_count": 19,
   "metadata": {},
   "outputs": [
    {
     "data": {
      "text/html": [
       "<div>\n",
       "<style scoped>\n",
       "    .dataframe tbody tr th:only-of-type {\n",
       "        vertical-align: middle;\n",
       "    }\n",
       "\n",
       "    .dataframe tbody tr th {\n",
       "        vertical-align: top;\n",
       "    }\n",
       "\n",
       "    .dataframe thead th {\n",
       "        text-align: right;\n",
       "    }\n",
       "</style>\n",
       "<table border=\"1\" class=\"dataframe\">\n",
       "  <thead>\n",
       "    <tr style=\"text-align: right;\">\n",
       "      <th></th>\n",
       "      <th>name</th>\n",
       "      <th>id</th>\n",
       "      <th>name_type</th>\n",
       "      <th>rec_class</th>\n",
       "      <th>mass</th>\n",
       "      <th>fall</th>\n",
       "      <th>year</th>\n",
       "      <th>rec_lat</th>\n",
       "      <th>rec_long</th>\n",
       "      <th>location_type</th>\n",
       "    </tr>\n",
       "  </thead>\n",
       "  <tbody>\n",
       "    <tr>\n",
       "      <th>28</th>\n",
       "      <td>Allegan</td>\n",
       "      <td>2276</td>\n",
       "      <td>Valid</td>\n",
       "      <td>Stony</td>\n",
       "      <td>32000.0</td>\n",
       "      <td>Fell</td>\n",
       "      <td>1899.0</td>\n",
       "      <td>42.53333</td>\n",
       "      <td>-85.88333</td>\n",
       "      <td>Exact</td>\n",
       "    </tr>\n",
       "    <tr>\n",
       "      <th>29</th>\n",
       "      <td>Allende</td>\n",
       "      <td>2278</td>\n",
       "      <td>Valid</td>\n",
       "      <td>Stony</td>\n",
       "      <td>2000000.0</td>\n",
       "      <td>Fell</td>\n",
       "      <td>1969.0</td>\n",
       "      <td>26.96667</td>\n",
       "      <td>-105.31667</td>\n",
       "      <td>Exact</td>\n",
       "    </tr>\n",
       "    <tr>\n",
       "      <th>34</th>\n",
       "      <td>Andover</td>\n",
       "      <td>2295</td>\n",
       "      <td>Valid</td>\n",
       "      <td>Stony</td>\n",
       "      <td>3200.0</td>\n",
       "      <td>Fell</td>\n",
       "      <td>1898.0</td>\n",
       "      <td>44.61667</td>\n",
       "      <td>-70.75000</td>\n",
       "      <td>Exact</td>\n",
       "    </tr>\n",
       "    <tr>\n",
       "      <th>46</th>\n",
       "      <td>Archie</td>\n",
       "      <td>2329</td>\n",
       "      <td>Valid</td>\n",
       "      <td>Stony</td>\n",
       "      <td>5070.0</td>\n",
       "      <td>Fell</td>\n",
       "      <td>1932.0</td>\n",
       "      <td>38.50000</td>\n",
       "      <td>-94.30000</td>\n",
       "      <td>Exact</td>\n",
       "    </tr>\n",
       "    <tr>\n",
       "      <th>49</th>\n",
       "      <td>Ash Creek</td>\n",
       "      <td>48954</td>\n",
       "      <td>Valid</td>\n",
       "      <td>Stony</td>\n",
       "      <td>9500.0</td>\n",
       "      <td>Fell</td>\n",
       "      <td>2009.0</td>\n",
       "      <td>31.80500</td>\n",
       "      <td>-97.01000</td>\n",
       "      <td>Exact</td>\n",
       "    </tr>\n",
       "    <tr>\n",
       "      <th>...</th>\n",
       "      <td>...</td>\n",
       "      <td>...</td>\n",
       "      <td>...</td>\n",
       "      <td>...</td>\n",
       "      <td>...</td>\n",
       "      <td>...</td>\n",
       "      <td>...</td>\n",
       "      <td>...</td>\n",
       "      <td>...</td>\n",
       "      <td>...</td>\n",
       "    </tr>\n",
       "    <tr>\n",
       "      <th>45689</th>\n",
       "      <td>Yucca 017</td>\n",
       "      <td>57159</td>\n",
       "      <td>Valid</td>\n",
       "      <td>Stony</td>\n",
       "      <td>200.0</td>\n",
       "      <td>Found</td>\n",
       "      <td>2011.0</td>\n",
       "      <td>34.81923</td>\n",
       "      <td>-114.27735</td>\n",
       "      <td>Exact</td>\n",
       "    </tr>\n",
       "    <tr>\n",
       "      <th>45693</th>\n",
       "      <td>Zaffra</td>\n",
       "      <td>30383</td>\n",
       "      <td>Valid</td>\n",
       "      <td>Iron</td>\n",
       "      <td>3000.0</td>\n",
       "      <td>Found</td>\n",
       "      <td>1919.0</td>\n",
       "      <td>35.00000</td>\n",
       "      <td>-94.75000</td>\n",
       "      <td>Exact</td>\n",
       "    </tr>\n",
       "    <tr>\n",
       "      <th>45697</th>\n",
       "      <td>Zapaliname</td>\n",
       "      <td>30392</td>\n",
       "      <td>Valid</td>\n",
       "      <td>Iron</td>\n",
       "      <td>85000.0</td>\n",
       "      <td>Found</td>\n",
       "      <td>1998.0</td>\n",
       "      <td>25.00944</td>\n",
       "      <td>-100.75000</td>\n",
       "      <td>Exact</td>\n",
       "    </tr>\n",
       "    <tr>\n",
       "      <th>45703</th>\n",
       "      <td>Zenda</td>\n",
       "      <td>30400</td>\n",
       "      <td>Valid</td>\n",
       "      <td>Iron</td>\n",
       "      <td>3700.0</td>\n",
       "      <td>Found</td>\n",
       "      <td>1955.0</td>\n",
       "      <td>42.51333</td>\n",
       "      <td>-88.48944</td>\n",
       "      <td>Exact</td>\n",
       "    </tr>\n",
       "    <tr>\n",
       "      <th>45715</th>\n",
       "      <td>Zulu Queen</td>\n",
       "      <td>30414</td>\n",
       "      <td>Valid</td>\n",
       "      <td>Stony</td>\n",
       "      <td>200.0</td>\n",
       "      <td>Found</td>\n",
       "      <td>1976.0</td>\n",
       "      <td>33.98333</td>\n",
       "      <td>-115.68333</td>\n",
       "      <td>Exact</td>\n",
       "    </tr>\n",
       "  </tbody>\n",
       "</table>\n",
       "<p>1714 rows × 10 columns</p>\n",
       "</div>"
      ],
      "text/plain": [
       "             name     id name_type rec_class       mass   fall    year  \\\n",
       "28        Allegan   2276     Valid     Stony    32000.0   Fell  1899.0   \n",
       "29        Allende   2278     Valid     Stony  2000000.0   Fell  1969.0   \n",
       "34        Andover   2295     Valid     Stony     3200.0   Fell  1898.0   \n",
       "46         Archie   2329     Valid     Stony     5070.0   Fell  1932.0   \n",
       "49      Ash Creek  48954     Valid     Stony     9500.0   Fell  2009.0   \n",
       "...           ...    ...       ...       ...        ...    ...     ...   \n",
       "45689   Yucca 017  57159     Valid     Stony      200.0  Found  2011.0   \n",
       "45693      Zaffra  30383     Valid      Iron     3000.0  Found  1919.0   \n",
       "45697  Zapaliname  30392     Valid      Iron    85000.0  Found  1998.0   \n",
       "45703       Zenda  30400     Valid      Iron     3700.0  Found  1955.0   \n",
       "45715  Zulu Queen  30414     Valid     Stony      200.0  Found  1976.0   \n",
       "\n",
       "        rec_lat   rec_long location_type  \n",
       "28     42.53333  -85.88333         Exact  \n",
       "29     26.96667 -105.31667         Exact  \n",
       "34     44.61667  -70.75000         Exact  \n",
       "46     38.50000  -94.30000         Exact  \n",
       "49     31.80500  -97.01000         Exact  \n",
       "...         ...        ...           ...  \n",
       "45689  34.81923 -114.27735         Exact  \n",
       "45693  35.00000  -94.75000         Exact  \n",
       "45697  25.00944 -100.75000         Exact  \n",
       "45703  42.51333  -88.48944         Exact  \n",
       "45715  33.98333 -115.68333         Exact  \n",
       "\n",
       "[1714 rows x 10 columns]"
      ]
     },
     "execution_count": 19,
     "metadata": {},
     "output_type": "execute_result"
    }
   ],
   "source": [
    "#map rec_class to Stony, Stony-iron, and iron\n",
    "class_dic = {\n",
    "    #Stony\n",
    "    'H5': 'Stony', 'H6':'Stony', 'H': 'Stony', 'H4': 'Stony', 'H4-an': 'Stony', \n",
    "    'L6': 'Stony', 'LL6': 'Stony', 'L3': 'Stony', 'L4': 'Stony', 'L5': 'Stony', 'L': 'Stony',\n",
    "    'LL4': 'Stony', 'L/LL4': 'Stony', 'L/LL6': 'Stony', 'L3.7': 'Stony', 'L3': 'Stony', \n",
    "    'LL5': 'Stony', 'L3.4':'Stony', 'L3.6': 'Stony', 'L3.5': 'Stony', 'L3.5-5':'Stony', 'L3.2': 'Stony', \n",
    "    'LL3': 'Stony', 'L3-6': 'Stony', 'L5-7': 'Stony', 'LL3.1':'Stony', 'LL3.3':\"stony\", 'LL3.4': 'Stony', 'L/LL3.4':'Stony',\n",
    "    'LL3.7': 'Stony', 'H3': 'Stony', 'H3.4': 'Stony', 'H3-6': 'Stony', 'H4-an': 'Stony', 'H4-6': 'Stony', 'H3.5': 'Stony','H3.7': 'Stony', \n",
    "    'H3-5': 'Stony', 'H3.6': 'Stony', 'H3.8': 'Stony', 'H3.9':'Stony', 'H3.10': 'Stony', \n",
    "    'H3-4': 'Stony', 'H4/5': 'Stony', 'H4/6': 'Stony', 'H5-6': 'Stony', 'H(5?)': 'Stony',\n",
    "    'H-melt rock': 'Stony', 'H?': 'Stony', 'H/L4': 'Stony','H-metal': 'Stony','EL6': 'Stony', \n",
    "    'EL6/7': 'Stony', 'EH4/5': 'Stony', 'CM2': 'Stony', 'CM1': 'Stony', 'CO3.3': 'Stony', \n",
    "    'CO3.7': 'Stony', 'CO3.0': 'Stony', 'CO3': 'Stony', 'CV3': 'Stony', 'CK3': 'Stony', \n",
    "    'CK4': 'Stony', 'CK5': 'Stony', 'CR': 'Stony', 'C2-ung': 'Stony', 'C4-ung': 'Stony', \n",
    "    'C': 'Stony', 'CBa': 'Stony','R3-6': 'Stony', 'K3': 'Stony', 'Winonaite': 'Stony', 'OC': 'Stony', \n",
    "    'Martian (nakhlite)': 'Stony', 'Ureilite': 'Stony', 'Eucrite-mmict': 'Stony', \n",
    "    'Eucrite': 'Stony', 'Eucrite-cm': 'Stony', 'Eucrite-pmict': 'Stony', 'Howardite': 'Stony', \n",
    "    'Diogenite': 'Stony', 'Diogenite-pm': 'Stony', 'Aubrite': 'Stony', 'Aubrite-an': 'Stony', \n",
    "    'Acapulcoite': 'Stony', 'L/LL5': 'Stony', 'L/LL6':'Stony', 'L4-6': 'Stony', 'L5/6': 'Stony', 'L6/7': 'Stony',\n",
    "    'L-imp melt': 'Stony', \n",
    "\n",
    "    #Stony-iron\n",
    "    'Pallasite, PMG': 'Stony_iron', 'Mesosiderite-A3/4': 'Stony_iron', \n",
    "    'Pallasite, PMG-an': 'Stony_iron', 'Pallasite': 'Stony_iron', \n",
    "    'Pallasite, PES': 'Stony_iron', 'Pallasite, ungrouped': 'Stony_iron', \n",
    "    'Mesosiderite': 'Stony_iron', 'Mesosiderite-A3': 'Stony_iron', \n",
    "    'Mesosiderite-A2': 'Stony_iron', 'Mesosiderite-A1': 'Stony_iron', \n",
    "    'Mesosiderite-B4': 'Stony_iron',\n",
    "\n",
    "    #Iron\n",
    "    'Iron, IIIAB':'Iron', 'Iron, IVA':'Iron', 'Iron':'Iron', \n",
    "    'Iron, IAB-sLL':'Iron', 'Iron, IAB-ung': 'Iron', 'Iron, IIAB': 'Iron', \n",
    "    'Iron, IAB complex': 'Iron', 'Iron, IAB-sHL': 'Iron', 'Iron, IAB-sLM': 'Iron', \n",
    "    'Iron, IC': 'Iron', 'Iron, IIE-an': 'Iron', 'Iron, IAB-MG': 'Iron', \n",
    "    'Iron, IIG': 'Iron', 'Iron, ungrouped': 'Iron', 'Iron, IID': 'Iron', \n",
    "    'Iron, IIIE': 'Iron', 'Iron, IIIF': 'Iron', 'Iron, IAB-sLH': 'Iron', \n",
    "    'Iron, IIF': 'Iron', 'Iron, IVB': 'Iron', 'Iron, IIIAB?':'Iron', \n",
    "    'Iron, IAB-an': 'Iron', 'Iron, IIC':'Iron', 'Iron, IIE': 'Iron', \n",
    "    'Iron, IAB-sHH': 'Iron',\n",
    "}\n",
    "df['rec_class'] = df['rec_class'].map(class_dic)\n",
    "df"
   ]
  },
  {
   "cell_type": "code",
   "execution_count": 20,
   "metadata": {},
   "outputs": [
    {
     "data": {
      "text/plain": [
       "array(['Stony', 'Iron', 'Stony_iron', 'stony'], dtype=object)"
      ]
     },
     "execution_count": 20,
     "metadata": {},
     "output_type": "execute_result"
    }
   ],
   "source": [
    "df.rec_class.unique()"
   ]
  },
  {
   "cell_type": "code",
   "execution_count": 21,
   "metadata": {},
   "outputs": [],
   "source": [
    "df.to_csv('cleaned_meteorite_data.csv', index=False)"
   ]
  }
 ],
 "metadata": {
  "kernelspec": {
   "display_name": "base",
   "language": "python",
   "name": "python3"
  },
  "language_info": {
   "codemirror_mode": {
    "name": "ipython",
    "version": 3
   },
   "file_extension": ".py",
   "mimetype": "text/x-python",
   "name": "python",
   "nbconvert_exporter": "python",
   "pygments_lexer": "ipython3",
   "version": "3.11.4"
  }
 },
 "nbformat": 4,
 "nbformat_minor": 2
}
